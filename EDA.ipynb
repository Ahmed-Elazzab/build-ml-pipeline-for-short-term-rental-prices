{
 "cells": [
  {
   "cell_type": "code",
   "execution_count": null,
   "id": "0b6736af",
   "metadata": {},
   "outputs": [],
   "source": [
    "\n",
    "import wandb\n",
    "import numpy as np\n",
    "import pandas as pd\n",
    "import pandas_profiling as pdp"
   ]
  },
  {
   "cell_type": "code",
   "execution_count": null,
   "id": "46b70499",
   "metadata": {},
   "outputs": [],
   "source": [
    "# read-in of sample.csv file from w&b\n",
    "run = wandb.init(project='nyc_airbnb', group='eda', save_code=True)\n",
    "local_path = wandb.use_artifact('sample.csv:latest').file()\n",
    "df_sample = pd.read_csv(local_path)"
   ]
  },
  {
   "cell_type": "code",
   "execution_count": null,
   "id": "48f03a0c",
   "metadata": {},
   "outputs": [],
   "source": [
    "# first info of raw data set\n",
    "df_sample.info()"
   ]
  },
  {
   "cell_type": "code",
   "execution_count": null,
   "id": "6e8fa4ca",
   "metadata": {},
   "outputs": [],
   "source": [
    "# create profiling report\n",
    "profile = pdp.ProfileReport(df_sample, title=\"Pandas Profiling Report - Raw Sample DataFrame - NYC Airbnb\")"
   ]
  },
  {
   "cell_type": "code",
   "execution_count": null,
   "id": "149f8042",
   "metadata": {},
   "outputs": [],
   "source": [
    "profile.to_file(\"./reports/eda_sample_input_profiling_report.html\")"
   ]
  },
  {
   "cell_type": "code",
   "execution_count": null,
   "id": "3832bcc3",
   "metadata": {},
   "outputs": [],
   "source": []
  },
  {
   "cell_type": "code",
   "execution_count": null,
   "id": "d4c4adb6",
   "metadata": {},
   "outputs": [],
   "source": [
    "# drop outliers\n",
    "min_price = 10\n",
    "max_price = 350\n",
    "idx = df_sample['price'].between(min_price, max_price)\n",
    "df_clean = df_sample[idx].copy()"
   ]
  },
  {
   "cell_type": "code",
   "execution_count": null,
   "id": "e56387ed",
   "metadata": {},
   "outputs": [],
   "source": [
    "# convert 'last_review' to datetime\n",
    "df_clean['last_review'] = pd.to_datetime(df_clean['last_review'])"
   ]
  },
  {
   "cell_type": "code",
   "execution_count": null,
   "id": "035f4610",
   "metadata": {},
   "outputs": [],
   "source": [
    "# normal distribution of 'minimum_nights'\n",
    "df_clean['minimum_nights'] = np.log(df_clean['minimum_nights'])"
   ]
  },
  {
   "cell_type": "code",
   "execution_count": null,
   "id": "bf1207ab",
   "metadata": {},
   "outputs": [],
   "source": [
    "df_clean.head()"
   ]
  },
  {
   "cell_type": "markdown",
   "id": "5d754bb7",
   "metadata": {},
   "source": [
    "### Profiling of cleaned data"
   ]
  },
  {
   "cell_type": "code",
   "execution_count": null,
   "id": "6d9fd763",
   "metadata": {},
   "outputs": [],
   "source": [
    "df_clean.info()"
   ]
  },
  {
   "cell_type": "code",
   "execution_count": null,
   "id": "b7160197",
   "metadata": {},
   "outputs": [],
   "source": [
    "df_clean.describe()"
   ]
  },
  {
   "cell_type": "code",
   "execution_count": null,
   "id": "0bed543b",
   "metadata": {},
   "outputs": [],
   "source": [
    "# create new profiling report of cleaned dataframe\n",
    "profile = pdp.ProfileReport(df_clean, title=\"Pandas Profiling Report - Cleaned DataFrame - NYC Airbnb\")"
   ]
  },
  {
   "cell_type": "code",
   "execution_count": null,
   "id": "b119ad1f",
   "metadata": {},
   "outputs": [],
   "source": [
    "profile.to_file(\"./reports/eda_cleaned_df_profiling_report.html\")"
   ]
  },
  {
   "cell_type": "code",
   "execution_count": null,
   "id": "83c72e5a",
   "metadata": {},
   "outputs": [],
   "source": [
    "run.finish()"
   ]
  }
 ],
 "metadata": {
  "kernelspec": {
   "display_name": "nyc_airbnb_dev",
   "language": "python",
   "name": "python3"
  },
  "language_info": {
   "codemirror_mode": {
    "name": "ipython",
    "version": 3
   },
   "file_extension": ".py",
   "mimetype": "text/x-python",
   "name": "python",
   "nbconvert_exporter": "python",
   "pygments_lexer": "ipython3",
   "version": "3.10.17"
  }
 },
 "nbformat": 4,
 "nbformat_minor": 5
}
